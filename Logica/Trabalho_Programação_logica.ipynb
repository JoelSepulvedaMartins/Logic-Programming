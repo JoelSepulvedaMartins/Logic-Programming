{
  "cells": [
    {
      "cell_type": "markdown",
      "metadata": {
        "id": "GoDYG49xt2sq"
      },
      "source": [
        "##Joel Sepulveda Martins\n",
        "##TURMA: U\n",
        "##NOTURNO"
      ]
    },
    {
      "cell_type": "code",
      "execution_count": null,
      "metadata": {
        "id": "eVRH-rxkCSXo"
      },
      "outputs": [],
      "source": [
        "# Cria o TXT com as formulas para serem convertidas\n",
        "expr1 = \"∀x(P(x) -> Q(x)) ∧ ∃x(P(x) ∧ R(x))\"\n",
        "expr2 = \"∃x(P(x) ∧ ∀y(Q(y) -> R(x,y)))\"\n",
        "expr3 = \"∀x∀y(P(x,y) <-> P(y,x))\"\n",
        "expr4 = \"∃x∀y(P(x,y) ∧ ~Q(y))\"\n",
        "expr5 = \"∀x(P(x) -> ∃y(Q(y) ∧ R(x,y)))\"\n",
        "\n",
        "expressions = [expr1, expr2, expr3, expr4, expr5]\n",
        "\n",
        "# Abrindo um arquivo txt para escrita\n",
        "file = open(\"Filebase_v1.txt\", \"w\")\n",
        "\n",
        "# Escrevendo cada expressão no arquivo\n",
        "for expr in expressions:\n",
        "  file.write(expr + \"\\n\")\n",
        "\n",
        "# Fechando o arquivo\n",
        "file.close()"
      ]
    },
    {
      "cell_type": "code",
      "execution_count": null,
      "metadata": {
        "id": "cgq0VSrdoXyD"
      },
      "outputs": [],
      "source": [
        "##ALUNOS: Lucas Gabriel Nunes Geremias, Joel Sepulveda Martins\n",
        "##TURMA: U\n",
        "##NOTURNO\n",
        "from IPython.display import display, Latex\n",
        "def convert_to_latex(formula):\n",
        "  latex_dict = {\n",
        "      '∧': \"\\\\wedge \",\n",
        "      '∨':\"\\\\vee \",\n",
        "      '~': \"\\\\neg \",\n",
        "      '->': \"\\\\rightarrow \",\n",
        "      '<->': \"\\\\leftrightarrow \",\n",
        "      '∀': \"\\\\forall \",\n",
        "      '∃': \"\\\\exists \",\n",
        "      '≡': \"\\\\equiv \"\n",
        "  }\n",
        "  formula = formula.replace('∧', latex_dict['∧'])\n",
        "  formula = formula.replace('∨', latex_dict['∨'])\n",
        "  formula = formula.replace('~', latex_dict['~'])\n",
        "  formula = formula.replace('->', latex_dict['->'])\n",
        "  formula = formula.replace('<->', latex_dict['<->'])\n",
        "  formula = formula.replace('∀', latex_dict['∀'])\n",
        "  formula = formula.replace('∃', latex_dict['∃'])\n",
        "  formula = formula.replace('≡', latex_dict['≡'])\n",
        "\n",
        "  return formula\n",
        "def delete_quantificator(f):\n",
        "  have_quantificator = False\n",
        "  if('∀' in f):\n",
        "    position = f.find('∀')\n",
        "    if(f[position + 2] == '∀' or f[position + 2] == '∃'):\n",
        "      f = f[position + 4: len(f) +1]\n",
        "      have_quantificator = True\n",
        "    else:\n",
        "      f = f[position + 2: len(f) +1]\n",
        "      have_quantificator = True\n",
        "  elif('∃' in f):\n",
        "    position = f.find('∃')\n",
        "    if(f[position + 2] == '∀' or f[position + 2] == '∃'):\n",
        "      f = f[position + 4: len(f) + 1]\n",
        "      have_quantificator = True\n",
        "    else:\n",
        "      f = f[position + 2: len(f) + 1]\n",
        "      have_quantificator = True\n",
        "  return f, have_quantificator\n",
        "\n",
        "def transform_dis(formula):\n",
        "  have_transformation = False\n",
        "  formula_in_process = formula.split()\n",
        "  if('<->' in formula_in_process):\n",
        "    position = formula_in_process.index('<->')\n",
        "    element_1 = formula_in_process[position - 1]\n",
        "    element_1_without_quantificator, have_quant = delete_quantificator(element_1)\n",
        "    if(have_quant == False):\n",
        "      element_1 = element_1.replace('(', '', 1)\n",
        "    element_2_base = formula_in_process[position + 1]\n",
        "    element_2 = element_2_base.replace(')', ' ')\n",
        "    if(element_2_base[len(element_2_base)- 2] == ')'):\n",
        "      element_2 = element_2.replace(' ', ')', 1)\n",
        "    element_2 = element_2.replace(' ', '')\n",
        "\n",
        "    if(have_quant == False):\n",
        "      formula_in_process[position - 1] = '(' + element_1 + ' -> ' + element_2 + ')'\n",
        "      formula_in_process[position + 1] = '(' + element_2 + ' -> ' + element_1 + ')'\n",
        "    else:\n",
        "      formula_in_process[position - 1] = element_1 + ' -> ' + element_2 + ')'\n",
        "      element_1_without_quantificator = element_1_without_quantificator.replace('(', '', 1)\n",
        "      formula_in_process[position + 1] = '(' + element_2 + ' -> ' + element_1_without_quantificator + ')'\n",
        "    formula_in_process[position] = '∧'\n",
        "    have_transformation = True\n",
        "  elif('->' in formula_in_process):\n",
        "    position = formula_in_process.index('->')\n",
        "    formula_in_process[position] = 'V'\n",
        "    element_base = formula_in_process[position - 1]\n",
        "    element = element_base.replace('(', '(~', 1)\n",
        "    formula_in_process[position - 1] = element\n",
        "    have_transformation = True\n",
        "    #Verifica se tem '~(' nas strings de formula_in_process\n",
        "  elif(any('~(' in s for s in formula_in_process)):\n",
        "    #Retorna a posição de '~(' dentro de formula_in_process\n",
        "    position = next((i for i, s in enumerate(formula_in_process) if '~(' in s), None)\n",
        "    if(formula_in_process[position + 1] == 'V'):\n",
        "      element_base = formula_in_process[position]\n",
        "      element = element_base.replace('~(', '(~')\n",
        "      element_base_2 = formula_in_process[position + 2]\n",
        "      element_2 = element_base_2.replace(element_base_2, '~' + element_base_2)\n",
        "      formula_in_process[position] = element\n",
        "      formula_in_process[position + 1] = '∧'\n",
        "      formula_in_process[position + 2] = element_2\n",
        "      have_transformation = True\n",
        "    elif(formula_in_process[position + 1] == '∧'):\n",
        "      element_base = formula_in_process[position]\n",
        "      element = element_base.replace('~(', '(~')\n",
        "      element_base_2 = formula_in_process[position + 2]\n",
        "      element_2 = element_base_2.replace(element_base_2, '~' + element_base_2)\n",
        "      formula_in_process[position] = element\n",
        "      formula_in_process[position + 1] = 'V'\n",
        "      formula_in_process[position + 2] = element_2\n",
        "      have_transformation = True\n",
        "  elif(any('~~' in s for s in formula_in_process)):\n",
        "    position = next((i for i, s in enumerate(formula_in_process) if '~~' in s), None)\n",
        "    element_base = formula_in_process[position]\n",
        "    element = element_base.replace('~~', '')\n",
        "    formula_in_process[position] = element\n",
        "    have_transformation = True\n",
        "  elif(any('V' in s for s in formula_in_process)):\n",
        "    position = next((i for i, s in enumerate(formula_in_process) if 'V' in s), None)\n",
        "    next_ = formula_in_process[position + 1]\n",
        "    before_ = formula_in_process[position - 1]\n",
        "    #Conta os parenteses\n",
        "    count = 0\n",
        "    for i in next_:\n",
        "      if(i == ')'):\n",
        "        count+=1\n",
        "    if('(' == next_[0] and formula_in_process[position + 2] == '∧' and count < 2):\n",
        "      element_1 = formula_in_process[position - 1]\n",
        "\n",
        "      element_2 = formula_in_process[position + 1]\n",
        "      element_2 = element_2.replace('(', '', 1)\n",
        "\n",
        "      element_3 = formula_in_process[position + 3]\n",
        "      element_3 = element_3.replace(')', ' ')\n",
        "      element_3 = element_3.replace(' ', ')', 1)\n",
        "      element_3 = element_3.replace(' ', '')\n",
        "\n",
        "      formula_in_process[position - 1 ] = \"(\" + element_1 + \" V \" + element_2 + \")\"\n",
        "      formula_in_process[position] = '∧'\n",
        "      formula_in_process[position + 1] = \"(\" + element_1 + \" V \" + element_3 + \")\"\n",
        "      del formula_in_process[position + 2]\n",
        "      del formula_in_process[position + 2]\n",
        "      have_transformation = True\n",
        "      # and count < 2\n",
        "    elif(')' == before_[len(before_) - 1] and formula_in_process[position - 2] == '∧' ):\n",
        "      element_1 = formula_in_process[position + 1]\n",
        "\n",
        "      element_2_base = formula_in_process[position - 1]\n",
        "      element_2 = element_2_base.replace(')', ' ')\n",
        "      if(element_2_base[len(element_2_base) - 2] == ')'):\n",
        "        element_2 = element_2.replace(' ', ')', 1)\n",
        "      element_2 = element_2.replace(' ', '')\n",
        "\n",
        "      element_3 = formula_in_process[position - 3]\n",
        "      element_3 = element_3.replace('(', '', 1)\n",
        "\n",
        "      formula_in_process[position - 1 ] = \"(\" + element_3 + \" V \" + element_1 + \")\"\n",
        "      formula_in_process[position] = '∧'\n",
        "      formula_in_process[position + 1] = \"(\" + element_2 + \" V \" + element_1 + \")\"\n",
        "      del formula_in_process[position - 2]\n",
        "      del formula_in_process[position - 3]\n",
        "      have_transformation = True\n",
        "  if(have_transformation == False):\n",
        "    if(any('∧' in s for s in formula_in_process)):\n",
        "      position = next((i for i, s in enumerate(formula_in_process) if '∧' in s), None)\n",
        "      next_ = formula_in_process[position + 1]\n",
        "      before_ = formula_in_process[position - 3]\n",
        "      before_without_quantificator, s = delete_quantificator(before_)\n",
        "      next_without_quantificator, s = delete_quantificator(next_)\n",
        "      formula_in_process[position - 3] = before_.replace(\"(\", \"~(\", 1)\n",
        "      count = 0\n",
        "      for i in next_:\n",
        "        if(i == '('):\n",
        "          count+=1\n",
        "      if(count > 1):\n",
        "        formula_in_process[position + 1] = next_.replace(\"(\", \"~(\", 1)\n",
        "      else:\n",
        "        formula_in_process[position + 1] = next_.replace(next_,'~' + next_)\n",
        "      formula_in_process[position] = 'V'\n",
        "  formula_final = ' '.join(formula_in_process)\n",
        "  return formula_final, have_transformation\n",
        "\n",
        "#------------------------------------ TRANSFORMA EM CONJUNTIVA ------------------------------------\n",
        "def transform_conj(formula):\n",
        "  have_transformation = False\n",
        "  formula_in_process = formula.split()\n",
        "  if('<->' in formula_in_process):\n",
        "    position = formula_in_process.index('<->')\n",
        "    element_1 = formula_in_process[position - 1]\n",
        "    element_1_without_quantificator, have_quant = delete_quantificator(element_1)\n",
        "    if(have_quant == False):\n",
        "      element_1 = element_1.replace('(', '', 1)\n",
        "    element_2_base = formula_in_process[position + 1]\n",
        "    element_2 = element_2_base.replace(')', ' ')\n",
        "    if(element_2_base[len(element_2_base)- 2] == ')'):\n",
        "      element_2 = element_2.replace(' ', ')', 1)\n",
        "    element_2 = element_2.replace(' ', '')\n",
        "\n",
        "    if(have_quant == False):\n",
        "      formula_in_process[position - 1] = '(' + element_1 + ' -> ' + element_2 + ')'\n",
        "      formula_in_process[position + 1] = '(' + element_2 + ' -> ' + element_1 + ')'\n",
        "    else:\n",
        "      formula_in_process[position - 1] = element_1 + ' -> ' + element_2 + ')'\n",
        "      element_1_without_quantificator = element_1_without_quantificator.replace('(', '', 1)\n",
        "      formula_in_process[position + 1] = '(' + element_2 + ' -> ' + element_1_without_quantificator + ')'\n",
        "    formula_in_process[position] = '∧'\n",
        "    have_transformation = True\n",
        "  elif('->' in formula_in_process):\n",
        "    position = formula_in_process.index('->')\n",
        "    formula_in_process[position] = 'V'\n",
        "    element_base = formula_in_process[position - 1]\n",
        "    element = element_base.replace('(', '(~', 1)\n",
        "    formula_in_process[position - 1] = element\n",
        "    have_transformation = True\n",
        "    #Verifica se tem '~(' nas strings de formula_in_process\n",
        "  elif(any('~(' in s for s in formula_in_process)):\n",
        "    #Retorna a posição de '~(' dentro de formula_in_process\n",
        "    position = next((i for i, s in enumerate(formula_in_process) if '~(' in s), None)\n",
        "    if(formula_in_process[position + 1] == 'V'):\n",
        "      element_base = formula_in_process[position]\n",
        "      element = element_base.replace('~(', '(~')\n",
        "      element_base_2 = formula_in_process[position + 2]\n",
        "      element_2 = element_base_2.replace(element_base_2, '~' + element_base_2)\n",
        "      formula_in_process[position] = element\n",
        "      formula_in_process[position + 1] = '∧'\n",
        "      formula_in_process[position + 2] = element_2\n",
        "      have_transformation = True\n",
        "    elif(formula_in_process[position + 1] == '∧'):\n",
        "      element_base = formula_in_process[position]\n",
        "      element = element_base.replace('~(', '(~')\n",
        "      element_base_2 = formula_in_process[position + 2]\n",
        "      element_2 = element_base_2.replace(element_base_2, '~' + element_base_2)\n",
        "      formula_in_process[position] = element\n",
        "      formula_in_process[position + 1] = 'V'\n",
        "      formula_in_process[position + 2] = element_2\n",
        "      have_transformation = True\n",
        "  elif(any('~~' in s for s in formula_in_process)):\n",
        "    position = next((i for i, s in enumerate(formula_in_process) if '~~' in s), None)\n",
        "    element_base = formula_in_process[position]\n",
        "    element = element_base.replace('~~', '')\n",
        "    formula_in_process[position] = element\n",
        "    have_transformation = True\n",
        "  elif(any('V' in s for s in formula_in_process)):\n",
        "    position = next((i for i, s in enumerate(formula_in_process) if 'V' in s), None)\n",
        "    next_ = formula_in_process[position + 1]\n",
        "    before_ = formula_in_process[position - 1]\n",
        "    #Conta os parenteses\n",
        "    count = 0\n",
        "    for i in next_:\n",
        "      if(i == ')'):\n",
        "        count+=1\n",
        "    if('(' == next_[0] and formula_in_process[position + 2] == '∧' and count < 2):\n",
        "      element_1 = formula_in_process[position - 1]\n",
        "\n",
        "      element_2 = formula_in_process[position + 1]\n",
        "      element_2 = element_2.replace('(', '', 1)\n",
        "\n",
        "      element_3 = formula_in_process[position + 3]\n",
        "      element_3 = element_3.replace(')', ' ')\n",
        "      element_3 = element_3.replace(' ', ')', 1)\n",
        "      element_3 = element_3.replace(' ', '')\n",
        "\n",
        "      formula_in_process[position - 1 ] = \"(\" + element_1 + \" V \" + element_2 + \")\"\n",
        "      formula_in_process[position] = '∧'\n",
        "      formula_in_process[position + 1] = \"(\" + element_1 + \" V \" + element_3 + \")\"\n",
        "      del formula_in_process[position + 2]\n",
        "      del formula_in_process[position + 2]\n",
        "      have_transformation = True\n",
        "      # and count < 2\n",
        "    elif(')' == before_[len(before_) - 1] and formula_in_process[position - 2] == '∧' ):\n",
        "      element_1 = formula_in_process[position + 1]\n",
        "\n",
        "      element_2_base = formula_in_process[position - 1]\n",
        "      element_2 = element_2_base.replace(')', ' ')\n",
        "      if(element_2_base[len(element_2_base) - 2] == ')'):\n",
        "        element_2 = element_2.replace(' ', ')', 1)\n",
        "      element_2 = element_2.replace(' ', '')\n",
        "\n",
        "      element_3 = formula_in_process[position - 3]\n",
        "      element_3 = element_3.replace('(', '', 1)\n",
        "\n",
        "      formula_in_process[position - 1 ] = \"(\" + element_3 + \" V \" + element_1 + \")\"\n",
        "      formula_in_process[position] = '∧'\n",
        "      formula_in_process[position + 1] = \"(\" + element_2 + \" V \" + element_1 + \")\"\n",
        "      del formula_in_process[position - 2]\n",
        "      del formula_in_process[position - 3]\n",
        "      have_transformation = True\n",
        "\n",
        "  formula_final = ' '.join(formula_in_process)\n",
        "  return formula_final, have_transformation\n",
        "\n",
        "def convert(type_of_convertion, formula):\n",
        "  if(type_of_convertion == \"conjuntiva\"):\n",
        "    formula_begin = formula\n",
        "    have_transformation = True\n",
        "    while(have_transformation == True):\n",
        "      # Vai transformando até a formula não ter mais transformação\n",
        "      formula_begin, have_transformation = transform_conj(formula_begin)\n",
        "    return formula_begin\n",
        "  elif(type_of_convertion == \"disjuntiva\"):\n",
        "    formula_begin = formula\n",
        "    have_transformation = True\n",
        "    while(have_transformation == True):\n",
        "      # Vai transformando até a formula não ter mais transformação\n",
        "      formula_begin, have_transformation = transform_dis(formula_begin)\n",
        "    return formula_begin\n",
        "  else:\n",
        "    return \"--- Tipo de transformação invalida!!! ---\""
      ]
    },
    {
      "cell_type": "code",
      "execution_count": null,
      "metadata": {
        "colab": {
          "base_uri": "https://localhost:8080/",
          "height": 776
        },
        "id": "ahyHrudkBNlB",
        "outputId": "69ba5feb-ebfd-4bf6-8b47-ef7d1ffd316a"
      },
      "outputs": [
        {
          "name": "stdout",
          "output_type": "stream",
          "text": [
            "----------------------------------------\n",
            "Formula de entrada: \n"
          ]
        },
        {
          "data": {
            "text/latex": [
              "$\\forall x(P(x) \\rightarrow  Q(x)) \\wedge  \\exists x(P(x) \\wedge  R(x))\n",
              "$"
            ],
            "text/plain": [
              "<IPython.core.display.Latex object>"
            ]
          },
          "metadata": {},
          "output_type": "display_data"
        },
        {
          "name": "stdout",
          "output_type": "stream",
          "text": [
            "Formula em FNC: \n"
          ]
        },
        {
          "data": {
            "text/latex": [
              "$\\forall x(\\neg P(x) V Q(x)) \\wedge  \\exists x(P(x) \\wedge  R(x))$"
            ],
            "text/plain": [
              "<IPython.core.display.Latex object>"
            ]
          },
          "metadata": {},
          "output_type": "display_data"
        },
        {
          "name": "stdout",
          "output_type": "stream",
          "text": [
            "Formula em FND: \n"
          ]
        },
        {
          "data": {
            "text/latex": [
              "$\\forall x\\neg (\\neg P(x) V Q(x)) V \\exists x\\neg (P(x) \\wedge  R(x))$"
            ],
            "text/plain": [
              "<IPython.core.display.Latex object>"
            ]
          },
          "metadata": {},
          "output_type": "display_data"
        },
        {
          "name": "stdout",
          "output_type": "stream",
          "text": [
            "----------------------------------------\n",
            "----------------------------------------\n",
            "Formula de entrada: \n"
          ]
        },
        {
          "data": {
            "text/latex": [
              "$\\exists x(P(x) \\wedge  \\forall y(Q(y) \\rightarrow  R(x,y)))\n",
              "$"
            ],
            "text/plain": [
              "<IPython.core.display.Latex object>"
            ]
          },
          "metadata": {},
          "output_type": "display_data"
        },
        {
          "name": "stdout",
          "output_type": "stream",
          "text": [
            "Formula em FNC: \n"
          ]
        },
        {
          "data": {
            "text/latex": [
              "$(\\exists xP(x) V R(x,y)))) \\wedge  (\\forall y(\\neg Q(y V R(x,y))))$"
            ],
            "text/plain": [
              "<IPython.core.display.Latex object>"
            ]
          },
          "metadata": {},
          "output_type": "display_data"
        },
        {
          "name": "stdout",
          "output_type": "stream",
          "text": [
            "Formula em FND: \n"
          ]
        },
        {
          "data": {
            "text/latex": [
              "$\\neg (\\exists xP(x) V R(x,y)))) V \\neg (\\forall y(\\neg Q(y V R(x,y))))$"
            ],
            "text/plain": [
              "<IPython.core.display.Latex object>"
            ]
          },
          "metadata": {},
          "output_type": "display_data"
        },
        {
          "name": "stdout",
          "output_type": "stream",
          "text": [
            "----------------------------------------\n",
            "----------------------------------------\n",
            "Formula de entrada: \n"
          ]
        },
        {
          "data": {
            "text/latex": [
              "$\\forall x\\forall y(P(x,y) <\\rightarrow  P(y,x))\n",
              "$"
            ],
            "text/plain": [
              "<IPython.core.display.Latex object>"
            ]
          },
          "metadata": {},
          "output_type": "display_data"
        },
        {
          "name": "stdout",
          "output_type": "stream",
          "text": [
            "Formula em FNC: \n"
          ]
        },
        {
          "data": {
            "text/latex": [
              "$\\forall x\\forall y(\\neg P(x,y) V P(y,x)) \\wedge  (\\neg P(y,x) V P(x,y))$"
            ],
            "text/plain": [
              "<IPython.core.display.Latex object>"
            ]
          },
          "metadata": {},
          "output_type": "display_data"
        },
        {
          "name": "stdout",
          "output_type": "stream",
          "text": [
            "Formula em FND: \n"
          ]
        },
        {
          "data": {
            "text/latex": [
              "$\\forall x\\forall y\\neg (\\neg P(x,y) V P(y,x)) V \\neg (\\neg P(y,x) V P(x,y))$"
            ],
            "text/plain": [
              "<IPython.core.display.Latex object>"
            ]
          },
          "metadata": {},
          "output_type": "display_data"
        },
        {
          "name": "stdout",
          "output_type": "stream",
          "text": [
            "----------------------------------------\n",
            "----------------------------------------\n",
            "Formula de entrada: \n"
          ]
        },
        {
          "data": {
            "text/latex": [
              "$\\exists x\\forall y(P(x,y) \\wedge  \\neg Q(y))\n",
              "$"
            ],
            "text/plain": [
              "<IPython.core.display.Latex object>"
            ]
          },
          "metadata": {},
          "output_type": "display_data"
        },
        {
          "name": "stdout",
          "output_type": "stream",
          "text": [
            "Formula em FNC: \n"
          ]
        },
        {
          "data": {
            "text/latex": [
              "$\\exists x\\forall y(P(x,y) \\wedge  \\neg Q(y))$"
            ],
            "text/plain": [
              "<IPython.core.display.Latex object>"
            ]
          },
          "metadata": {},
          "output_type": "display_data"
        },
        {
          "name": "stdout",
          "output_type": "stream",
          "text": [
            "Formula em FND: \n"
          ]
        },
        {
          "data": {
            "text/latex": [
              "$\\exists x\\forall y(P(x,y) V \\neg \\neg Q(y))$"
            ],
            "text/plain": [
              "<IPython.core.display.Latex object>"
            ]
          },
          "metadata": {},
          "output_type": "display_data"
        },
        {
          "name": "stdout",
          "output_type": "stream",
          "text": [
            "----------------------------------------\n",
            "----------------------------------------\n",
            "Formula de entrada: \n"
          ]
        },
        {
          "data": {
            "text/latex": [
              "$\\forall x(P(x) \\rightarrow  \\exists y(Q(y) \\wedge  R(x,y)))\n",
              "$"
            ],
            "text/plain": [
              "<IPython.core.display.Latex object>"
            ]
          },
          "metadata": {},
          "output_type": "display_data"
        },
        {
          "name": "stdout",
          "output_type": "stream",
          "text": [
            "Formula em FNC: \n"
          ]
        },
        {
          "data": {
            "text/latex": [
              "$\\forall x(\\neg P(x) V \\exists y(Q(y) \\wedge  R(x,y)))$"
            ],
            "text/plain": [
              "<IPython.core.display.Latex object>"
            ]
          },
          "metadata": {},
          "output_type": "display_data"
        },
        {
          "name": "stdout",
          "output_type": "stream",
          "text": [
            "Formula em FND: \n"
          ]
        },
        {
          "data": {
            "text/latex": [
              "$\\forall x\\neg (\\neg P(x) V \\exists y(Q(y) V \\neg R(x,y)))$"
            ],
            "text/plain": [
              "<IPython.core.display.Latex object>"
            ]
          },
          "metadata": {},
          "output_type": "display_data"
        },
        {
          "name": "stdout",
          "output_type": "stream",
          "text": [
            "----------------------------------------\n"
          ]
        }
      ],
      "source": [
        "fp = open(\"Filebase_v1.txt\", 'r')\n",
        "lines = fp.readlines()\n",
        "for line in lines:\n",
        "  print(\"----------------------------------------\")\n",
        "  print(\"Formula de entrada: \")\n",
        "  display(Latex(f'${convert_to_latex(line)}$'))\n",
        "  print(\"Formula em FNC: \")\n",
        "  display(Latex(f'${convert_to_latex(convert(\"conjuntiva\", line))}$'))\n",
        "  print(\"Formula em FND: \")\n",
        "  display(Latex(f'${convert_to_latex(convert(\"disjuntiva\", line))}$'))\n",
        "  print(\"----------------------------------------\")"
      ]
    }
  ],
  "metadata": {
    "colab": {
      "provenance": []
    },
    "kernelspec": {
      "display_name": "Python 3",
      "name": "python3"
    },
    "language_info": {
      "name": "python"
    }
  },
  "nbformat": 4,
  "nbformat_minor": 0
}
